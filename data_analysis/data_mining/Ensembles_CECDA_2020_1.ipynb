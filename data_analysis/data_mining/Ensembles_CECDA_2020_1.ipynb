{
  "cells": [
    {
      "cell_type": "markdown",
      "metadata": {},
      "source": [
        "## Ensemble Methods Analysis on Pima Indians Diabetes Dataset\n",
        "\n",
        "1. **Random Forest Classification**: Comparing Random Forest and Decision Tree classifiers.\n",
        "2. **Voting Ensemble**: Combining predictions from multiple models (Decision Tree, MLP).\n",
        "3. **Boosting**: Implementation of AdaBoost with different classifiers (Decision Tree, Random Forest).\n",
        "4. **Bagging Classifier**: Comparison of Bagging with different base models (Random Forest, KNN, MLP).\n",
        "\n",
        "Dataset sourced from the UCI Machine Learning Repository."
      ]
    },
    {
      "cell_type": "code",
      "execution_count": null,
      "metadata": {
        "id": "BRzkMykUjD7t"
      },
      "outputs": [],
      "source": [
        "# Random Forest Classification\n",
        "import pandas\n",
        "from sklearn import tree\n",
        "from sklearn import model_selection\n",
        "from sklearn.model_selection import train_test_split\n",
        "from sklearn.metrics import classification_report\n",
        "from sklearn.ensemble import RandomForestClassifier\n",
        "\n",
        "names = ['preg', 'plas', 'pres', 'skin', 'test', 'mass', 'pedi', 'age', 'class']\n",
        "\n",
        "dataframe = pandas.read_csv(\"pima-indians-diabetes.csv\", names=names)\n",
        "\n",
        "array = dataframe.values\n",
        "X = array[:,0:8]\n",
        "Y = array[:,8]\n",
        "\n",
        "seed = 7\n",
        "\n",
        "num_trees = 27\n",
        "\n",
        "max_features = 7\n",
        "\n",
        "X_train, X_test, y_train, y_test = train_test_split( X, Y, test_size=0.30, random_state=seed)\n",
        "\n",
        "kfold = model_selection.StratifiedKFold(n_splits=10, random_state=seed)\n",
        "\n",
        "RF = RandomForestClassifier(n_estimators=num_trees, max_features=max_features)\n",
        "results = model_selection.cross_val_score(RF, X, Y, cv=kfold)\n",
        "print(\"Random Forest: \",results.mean())\n",
        "\n",
        "dtree = tree.DecisionTreeClassifier(criterion='entropy',random_state=seed)\n",
        "results = model_selection.cross_val_score(dtree, X, Y, cv=kfold)\n",
        "print(\"Decision Tree: \", results.mean())\n"
      ]
    },
    {
      "cell_type": "code",
      "execution_count": null,
      "metadata": {
        "id": "hEBNtOf2kZpo"
      },
      "outputs": [],
      "source": [
        "# Voting Ensemble for Classification\n",
        "import pandas\n",
        "from sklearn import model_selection\n",
        "from sklearn.linear_model import LogisticRegression\n",
        "from sklearn.tree import DecisionTreeClassifier\n",
        "from sklearn.neural_network import MLPClassifier\n",
        "from sklearn.ensemble import VotingClassifier\n",
        "import sys\n",
        "import warnings\n",
        "if not sys.warnoptions:\n",
        "    warnings.simplefilter(\"ignore\")\n",
        "\n",
        "names = ['preg', 'plas', 'pres', 'skin', 'test', 'mass', 'pedi', 'age', 'class']\n",
        "dataframe = pandas.read_csv(\"pima-indians-diabetes.csv\", names=names)\n",
        "array = dataframe.values\n",
        "X = array[:,0:8]\n",
        "Y = array[:,8]\n",
        "seed = 7\n",
        "\n",
        "kfold = model_selection.StratifiedKFold(n_splits=10, random_state=seed)\n",
        "\n",
        "# create the sub models\n",
        "estimators = []\n",
        "model1 = DecisionTreeClassifier()\n",
        "estimators.append(('cart', model2))\n",
        "model2 = MLPClassifier(hidden_layer_sizes=(20,20), random_state=5)\n",
        "estimators.append(('mlp', model3))\n",
        "# create the ensemble model\n",
        "ensemble = VotingClassifier(estimators)\n",
        "results = model_selection.cross_val_score(ensemble, X, Y, cv=kfold)\n",
        "print(results.mean())"
      ]
    },
    {
      "cell_type": "code",
      "execution_count": null,
      "metadata": {
        "id": "tcx8qfOrllBQ"
      },
      "outputs": [],
      "source": [
        "# AdaBoostClassifier\n",
        "import numpy as np\n",
        "import pandas\n",
        "from sklearn.model_selection import cross_val_score\n",
        "from sklearn.ensemble import AdaBoostClassifier,RandomForestClassifier\n",
        "from sklearn.linear_model import SGDClassifier\n",
        "from sklearn import tree\n",
        "seed = 1075\n",
        "np.random.seed(seed)\n",
        "\n",
        "names = ['preg', 'plas', 'pres', 'skin', 'test', 'mass', 'pedi', 'age', 'class']\n",
        "dataframe = pandas.read_csv(\"pima-indians-diabetes.csv\", names=names)\n",
        "array = dataframe.values\n",
        "X = array[:,0:8]\n",
        "Y = array[:,8]\n",
        "\n",
        "# Create classifiers\n",
        "dt = tree.DecisionTreeClassifier()\n",
        "rf = RandomForestClassifier()\n",
        "\n",
        "clf_array = [dt, rf]\n",
        "for clf in clf_array:\n",
        "    pima_scores = cross_val_score(clf, X, Y, cv=10)\n",
        "    boosting_clf = AdaBoostClassifier(base_estimator=clf, n_estimators=15, random_state=seed)\n",
        "    boosting_scores = cross_val_score(boosting_clf, X, Y, cv=10)    \n",
        "    print('Media solo ',pima_scores.mean(), 'Desvio solo',pima_scores.std(), 'Media AdaBoost',boosting_scores.mean(), 'Desvio AdaBoost ',boosting_scores.std())"
      ]
    },
    {
      "cell_type": "code",
      "execution_count": null,
      "metadata": {
        "id": "5RCGnvWJmOxQ"
      },
      "outputs": [],
      "source": [
        "# BaggingClassifier\n",
        "import numpy as np\n",
        "import pandas\n",
        "from sklearn.model_selection import cross_val_score\n",
        "from sklearn.ensemble import BaggingClassifier,RandomForestClassifier\n",
        "from sklearn.neighbors import KNeighborsClassifier\n",
        "from sklearn.linear_model import RidgeClassifier\n",
        "from sklearn.neural_network import MLPClassifier\n",
        "import sys\n",
        "import warnings\n",
        "if not sys.warnoptions:\n",
        "    warnings.simplefilter(\"ignore\")\n",
        "if not sys.warnoptions:\n",
        "    warnings.simplefilter(\"ignore\")\n",
        "    os.environ[\"PYTHONWARNINGS\"] = \"ignore\"\n",
        "\n",
        "seed = 1075\n",
        "np.random.seed(seed)\n",
        "\n",
        "names = ['preg', 'plas', 'pres', 'skin', 'test', 'mass', 'pedi', 'age', 'class']\n",
        "dataframe = pandas.read_csv(\"pima-indians-diabetes.csv\", names=names)\n",
        "array = dataframe.values\n",
        "X = array[:,0:8]\n",
        "Y = array[:,8]\n",
        "\n",
        "# Create classifiers\n",
        "rf = RandomForestClassifier()\n",
        "knn = KNeighborsClassifier()\n",
        "mlpc = MLPClassifier( hidden_layer_sizes=(8,8), random_state=seed)\n",
        "\n",
        "\n",
        "clf_array = [rf, knn, mlpc]\n",
        "for clf in clf_array:\n",
        "    pima_scores = cross_val_score(clf, X, Y, cv=10)\n",
        "    bagging_clf = BaggingClassifier(clf,max_samples=0.8, max_features=5, random_state=seed)\n",
        "    bagging_scores = cross_val_score(bagging_clf, X, Y, cv=10)    \n",
        "    print('Media Solo ',pima_scores.mean(), 'Desvio Solo',pima_scores.std(), 'Media Bagging',bagging_scores.mean(), 'Desvio ',bagging_scores.std())"
      ]
    }
  ],
  "metadata": {
    "colab": {
      "collapsed_sections": [],
      "name": "Ensembles-CECDA-2020-1.ipynb",
      "provenance": []
    },
    "kernelspec": {
      "display_name": "Python 3",
      "name": "python3"
    }
  },
  "nbformat": 4,
  "nbformat_minor": 0
}
